{
 "cells": [
  {
   "cell_type": "markdown",
   "metadata": {},
   "source": [
    "function for sequence approaching pi to create set with pi as least upper bound\n",
    "based on answer: https://math.stackexchange.com/q/1469940"
   ]
  },
  {
   "cell_type": "code",
   "execution_count": 11,
   "metadata": {},
   "outputs": [],
   "source": [
    "import math as m"
   ]
  },
  {
   "cell_type": "markdown",
   "metadata": {},
   "source": [
    "$ S_n = 8 \\sum_{k=1}^{n} \\frac{1}{(4k+1)(4k+3)}$\n",
    "below:"
   ]
  },
  {
   "cell_type": "code",
   "execution_count": 3,
   "metadata": {},
   "outputs": [],
   "source": [
    "def leibniz_summation_term(n):\n",
    "    k = 0\n",
    "    for x in range(n+1):\n",
    "        k += (1.0 / ((4.0 * x + 1.0) * (4.0 * x + 3.0)))\n",
    "    return 8 * k\n",
    "      "
   ]
  },
  {
   "cell_type": "code",
   "execution_count": 12,
   "metadata": {},
   "outputs": [],
   "source": [
    "n_terms = list(map(leibniz_summation_term, [1, 500, 50000, 50000, 5000000]))"
   ]
  },
  {
   "cell_type": "markdown",
   "metadata": {},
   "source": [
    "$S_n$ is a sequence approaching $\\pi$:"
   ]
  },
  {
   "cell_type": "code",
   "execution_count": 5,
   "metadata": {},
   "outputs": [
    {
     "data": {
      "text/plain": [
       "[2.895238095238095,\n",
       " 3.1405946498462796,\n",
       " 3.1415826537898184,\n",
       " 3.1415826537898184,\n",
       " 3.141592553588915]"
      ]
     },
     "execution_count": 5,
     "metadata": {},
     "output_type": "execute_result"
    }
   ],
   "source": [
    "n_terms"
   ]
  },
  {
   "cell_type": "code",
   "execution_count": 6,
   "metadata": {},
   "outputs": [
    {
     "data": {
      "text/plain": [
       "[0.24635455835169795,\n",
       " 0.0009980037435135536,\n",
       " 9.999799974735879e-06,\n",
       " 9.999799974735879e-06,\n",
       " 1.000008782447992e-07]"
      ]
     },
     "execution_count": 6,
     "metadata": {},
     "output_type": "execute_result"
    }
   ],
   "source": [
    "list(map(lambda x: m.pi - x, n_terms))"
   ]
  }
 ],
 "metadata": {
  "kernelspec": {
   "display_name": "Python 3",
   "language": "python",
   "name": "python3"
  },
  "language_info": {
   "codemirror_mode": {
    "name": "ipython",
    "version": 3
   },
   "file_extension": ".py",
   "mimetype": "text/x-python",
   "name": "python",
   "nbconvert_exporter": "python",
   "pygments_lexer": "ipython3",
   "version": "3.8.5"
  }
 },
 "nbformat": 4,
 "nbformat_minor": 4
}
